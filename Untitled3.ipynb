{
  "nbformat": 4,
  "nbformat_minor": 0,
  "metadata": {
    "colab": {
      "provenance": [],
      "authorship_tag": "ABX9TyNiFRv0EisFVrLGJyXcD0+H",
      "include_colab_link": true
    },
    "kernelspec": {
      "name": "python3",
      "display_name": "Python 3"
    },
    "language_info": {
      "name": "python"
    }
  },
  "cells": [
    {
      "cell_type": "markdown",
      "metadata": {
        "id": "view-in-github",
        "colab_type": "text"
      },
      "source": [
        "<a href=\"https://colab.research.google.com/github/Lee-Jihyuwe/DATA-_STRUCTURE/blob/main/Untitled3.ipynb\" target=\"_parent\"><img src=\"https://colab.research.google.com/assets/colab-badge.svg\" alt=\"Open In Colab\"/></a>"
      ]
    },
    {
      "cell_type": "code",
      "execution_count": 6,
      "metadata": {
        "colab": {
          "base_uri": "https://localhost:8080/"
        },
        "id": "lZkQql1q0UhM",
        "outputId": "4043c977-3f12-4ec0-e7c3-6effcfec7f43"
      },
      "outputs": [
        {
          "output_type": "stream",
          "name": "stdout",
          "text": [
            "{'Toffer': 1, 'Ryan': 2, 'Alex': 3, 'Gagan': 4, 'Lievin': 5, 'Maya': 6, 'Chico': 7, 'Kirsten': 8, 'Justin': 9, 'Paura': 10}\n",
            "5.5\n"
          ]
        }
      ],
      "source": [
        "d = dict ()\n",
        "d[\"Toffer\"] = 1\n",
        "d[\"Ryan\"] = 2\n",
        "d[\"Alex\"] = 3\n",
        "d[\"Gagan\"] = 4\n",
        "d[\"Lievin\"] = 5\n",
        "d[\"Maya\"] = 6\n",
        "d[\"Chico\"] = 7\n",
        "d[\"Kirsten\"] = 8\n",
        "d[\"Justin\"] = 9\n",
        "d[\"Paura\"] = 10\n",
        "print (d)\n",
        "print ((d[\"Alex\"] + d['Chico'] + d[\"Gagan\"] + d[\"Justin\"] + d[\"Kirsten\"] + d['Lievin'] + d[\"Maya\"] + d[\"Paura\"] + d[\"Ryan\"] + d[\"Toffer\"]) /10 )"
      ]
    }
  ]
}